{
 "cells": [
  {
   "cell_type": "code",
   "execution_count": 29,
   "metadata": {},
   "outputs": [],
   "source": [
    "import numpy as np\n",
    "import pandas as pd\n",
    "import random, re\n",
    "from datetime import datetime"
   ]
  },
  {
   "cell_type": "code",
   "execution_count": 30,
   "metadata": {},
   "outputs": [],
   "source": [
    "df = pd.read_csv('twitter_dataset.csv')"
   ]
  },
  {
   "cell_type": "code",
   "execution_count": 31,
   "metadata": {},
   "outputs": [],
   "source": [
    "# Selecting a random word from tweet as a keyword\n",
    "def select_random_word(text):\n",
    "    words = re.split('[. ]+',text)\n",
    "    random_word = random.choice(words).strip().lower()\n",
    "    return random_word\n",
    "\n",
    "df['Keyword'] = df['Text'].apply(select_random_word)"
   ]
  },
  {
   "cell_type": "code",
   "execution_count": 32,
   "metadata": {},
   "outputs": [],
   "source": [
    "#get unique usernames\n",
    "names = set(df.Username)"
   ]
  },
  {
   "cell_type": "code",
   "execution_count": 33,
   "metadata": {},
   "outputs": [],
   "source": [
    "#generate a location for each user\n",
    "locations = {'Username' :[], 'lattitude': [], 'longitude': []}\n",
    "for x in list(names):\n",
    "    lat = round(random.uniform(40, 50), 2)\n",
    "    long = round(random.uniform(-40, -30), 2)\n",
    "    locations['Username'].append(x)\n",
    "    locations['lattitude'].append(lat)\n",
    "    locations['longitude'].append(long)\n",
    "locations = pd.DataFrame(locations)\n"
   ]
  },
  {
   "cell_type": "code",
   "execution_count": 34,
   "metadata": {},
   "outputs": [],
   "source": [
    "#join the df of posts with the usernames\n",
    "postdf = pd.merge(df, locations, on=None)"
   ]
  },
  {
   "cell_type": "code",
   "execution_count": 35,
   "metadata": {},
   "outputs": [],
   "source": [
    "#convert the date into a unix timestamp\n",
    "def text_to_timestamp(timestamp_text):\n",
    "    time = datetime.strptime(timestamp_text, '%Y-%m-%d %H:%M:%S')\n",
    "    timestamp = time.timestamp()\n",
    "    return timestamp\n",
    "\n",
    "#cutoff the date at the end of the period\n",
    "end_text = \"2023-06-15 12:32:09\"\n",
    "unix_end = text_to_timestamp(end_text)"
   ]
  },
  {
   "cell_type": "code",
   "execution_count": 36,
   "metadata": {},
   "outputs": [],
   "source": [
    "#convert unix timestamp back into date format\n",
    "def timestamp_to_text(timestamp):\n",
    "    time = datetime.fromtimestamp(timestamp)\n",
    "    date = time.strftime('%Y-%m-%d %H:%M:%S')\n",
    "    return date"
   ]
  },
  {
   "cell_type": "code",
   "execution_count": 37,
   "metadata": {},
   "outputs": [],
   "source": [
    "#generate random number of seconds after the post and before the cutoff\n",
    "def random_date_within_range(date):\n",
    "    while True:\n",
    "        random_number = np.random.gamma(shape=1.2, scale=10000)\n",
    "        if 1 <= random_number <= date:\n",
    "            return random_number"
   ]
  },
  {
   "cell_type": "code",
   "execution_count": 38,
   "metadata": {},
   "outputs": [],
   "source": [
    "#generate a random date for the date of the interaction\n",
    "def generate_timestamp(timestamp, before):\n",
    "    unix = text_to_timestamp(timestamp)\n",
    "    new_datetime = unix + random_date_within_range(before-unix)\n",
    "    return timestamp_to_text(new_datetime)"
   ]
  },
  {
   "cell_type": "code",
   "execution_count": 39,
   "metadata": {},
   "outputs": [],
   "source": [
    "#generate a date and user for each interaction\n",
    "interactiondict = {'Username':[],'Tweet_ID':[],'Timestamp':[]}\n",
    "for index,rows in df.iterrows():\n",
    "    interactions =  rows.Retweets + rows.Likes\n",
    "    users = random.sample(list(names- set(rows.Username)), interactions)\n",
    "    for x in users:\n",
    "        time = generate_timestamp(rows.Timestamp, unix_end)\n",
    "        interactiondict['Username'].append(x)\n",
    "        interactiondict['Tweet_ID'].append(rows.Tweet_ID)\n",
    "        interactiondict['Timestamp'].append(time)"
   ]
  },
  {
   "cell_type": "code",
   "execution_count": 40,
   "metadata": {},
   "outputs": [],
   "source": [
    "#merge the location and interaction data frames\n",
    "interactionsdf = pd.DataFrame(interactiondict)\n",
    "interactionsdf = pd.merge(interactionsdf, locations, on=None)"
   ]
  },
  {
   "cell_type": "code",
   "execution_count": 41,
   "metadata": {},
   "outputs": [],
   "source": [
    "#write the data frames to csvs\n",
    "interactionsdf.to_csv('twitter_interactions.csv')\n",
    "postdf.to_csv('twitter_posts.csv')"
   ]
  }
 ],
 "metadata": {
  "kernelspec": {
   "display_name": "Python 3",
   "language": "python",
   "name": "python3"
  },
  "language_info": {
   "codemirror_mode": {
    "name": "ipython",
    "version": 3
   },
   "file_extension": ".py",
   "mimetype": "text/x-python",
   "name": "python",
   "nbconvert_exporter": "python",
   "pygments_lexer": "ipython3",
   "version": "3.11.9"
  }
 },
 "nbformat": 4,
 "nbformat_minor": 2
}
